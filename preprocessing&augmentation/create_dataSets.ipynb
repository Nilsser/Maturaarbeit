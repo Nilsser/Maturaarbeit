{
 "cells": [
  {
   "cell_type": "code",
   "execution_count": null,
   "metadata": {},
   "outputs": [],
   "source": [
    "import os\n",
    "import cv2\n",
    "from tqdm import tqdm\n",
    "\n",
    "from preprocessing import ImageEditor"
   ]
  },
  {
   "cell_type": "code",
   "execution_count": null,
   "metadata": {},
   "outputs": [],
   "source": [
    "def newDataSet(direcories,new_paths):\n",
    "    iterations = 33029\n",
    "    i=0\n",
    "    pbar = tqdm(total=iterations) \n",
    "    assert direcories[0].split('/')[-1]==new_paths[0].split('/')[-1] and direcories[1].split('/')[-1]==new_paths[1].split('/')[-1]\n",
    "   \n",
    "    for dir_index in range(0,len(direcories)):\n",
    "        dir_elements = os.listdir(direcories[dir_index])\n",
    "\n",
    "        for element  in dir_elements:\n",
    "            try:\n",
    "                img = ImageEditor(direcories[dir_index]+element)\n",
    "                img.cut2square()\n",
    "                img.zoomSquare(1.1)\n",
    "                img.rescale(224)\n",
    "                img.write(new_paths[dir_index])\n",
    "                \n",
    "            except:\n",
    "                print(direcories[dir_index]+element)\n",
    "               \n",
    "            i+=1\n",
    "            pbar.update(n=1)"
   ]
  },
  {
   "cell_type": "code",
   "execution_count": null,
   "metadata": {},
   "outputs": [],
   "source": [
    "def augmentDataSet(origin_paths,save_paths):\n",
    "\n",
    "    assert origin_paths[0].split('/')[-1]==save_paths[0].split('/')[-1] #and origin_paths[1].split('/')[-1]==save_paths[1].split('/')[-1]\n",
    "    \n",
    "    for dir_index in range(0,len(origin_paths)) :\n",
    "\n",
    "        dir_elements=os.listdir(origin_paths[dir_index])\n",
    "\n",
    "        for element in dir_elements:\n",
    "            try: \n",
    "                img = ImageEditor(origin_paths[dir_index]+element)\n",
    "                #print(origin_paths[dir_index]+element)\n",
    "            #img.useGrayScale()\n",
    "            #img.cut2square()\n",
    "                img.randomFlip()\n",
    "                img.randomZoom()\n",
    "                img.rescale(224)\n",
    "                img.write(save_paths[dir_index]+'aug_')\n",
    "                \n",
    "            except:\n",
    "                print(element)\n",
    "            "
   ]
  }
 ],
 "metadata": {
  "kernelspec": {
   "display_name": "Python 3.10.5 64-bit",
   "language": "python",
   "name": "python3"
  },
  "language_info": {
   "name": "python",
   "version": "3.10.5"
  },
  "orig_nbformat": 4,
  "vscode": {
   "interpreter": {
    "hash": "283ef8891ff4bf443aa128a25cf2888f5af3851caf26729798254c68c875a2e6"
   }
  }
 },
 "nbformat": 4,
 "nbformat_minor": 2
}
