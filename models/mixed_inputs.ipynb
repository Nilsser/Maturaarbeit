{
 "cells": [
  {
   "cell_type": "code",
   "execution_count": 1,
   "metadata": {},
   "outputs": [
    {
     "data": {
      "text/html": [
       "<div>\n",
       "<style scoped>\n",
       "    .dataframe tbody tr th:only-of-type {\n",
       "        vertical-align: middle;\n",
       "    }\n",
       "\n",
       "    .dataframe tbody tr th {\n",
       "        vertical-align: top;\n",
       "    }\n",
       "\n",
       "    .dataframe thead th {\n",
       "        text-align: right;\n",
       "    }\n",
       "</style>\n",
       "<table border=\"1\" class=\"dataframe\">\n",
       "  <thead>\n",
       "    <tr style=\"text-align: right;\">\n",
       "      <th></th>\n",
       "      <th>female</th>\n",
       "      <th>male</th>\n",
       "      <th>as1</th>\n",
       "      <th>as2</th>\n",
       "      <th>as3</th>\n",
       "      <th>as4</th>\n",
       "      <th>as5</th>\n",
       "      <th>as6</th>\n",
       "      <th>as7</th>\n",
       "      <th>as8</th>\n",
       "      <th>img_name</th>\n",
       "      <th>age</th>\n",
       "      <th>target</th>\n",
       "    </tr>\n",
       "  </thead>\n",
       "  <tbody>\n",
       "    <tr>\n",
       "      <th>0</th>\n",
       "      <td>0.0</td>\n",
       "      <td>1.0</td>\n",
       "      <td>0.0</td>\n",
       "      <td>1.0</td>\n",
       "      <td>0.0</td>\n",
       "      <td>0.0</td>\n",
       "      <td>0.0</td>\n",
       "      <td>0.0</td>\n",
       "      <td>0.0</td>\n",
       "      <td>0.0</td>\n",
       "      <td>ISIC_2637011</td>\n",
       "      <td>0.45</td>\n",
       "      <td>0</td>\n",
       "    </tr>\n",
       "    <tr>\n",
       "      <th>1</th>\n",
       "      <td>1.0</td>\n",
       "      <td>0.0</td>\n",
       "      <td>0.0</td>\n",
       "      <td>0.0</td>\n",
       "      <td>0.0</td>\n",
       "      <td>0.0</td>\n",
       "      <td>0.0</td>\n",
       "      <td>0.0</td>\n",
       "      <td>1.0</td>\n",
       "      <td>0.0</td>\n",
       "      <td>ISIC_0015719</td>\n",
       "      <td>0.45</td>\n",
       "      <td>0</td>\n",
       "    </tr>\n",
       "    <tr>\n",
       "      <th>2</th>\n",
       "      <td>1.0</td>\n",
       "      <td>0.0</td>\n",
       "      <td>0.0</td>\n",
       "      <td>0.0</td>\n",
       "      <td>1.0</td>\n",
       "      <td>0.0</td>\n",
       "      <td>0.0</td>\n",
       "      <td>0.0</td>\n",
       "      <td>0.0</td>\n",
       "      <td>0.0</td>\n",
       "      <td>ISIC_0052212</td>\n",
       "      <td>0.50</td>\n",
       "      <td>0</td>\n",
       "    </tr>\n",
       "    <tr>\n",
       "      <th>3</th>\n",
       "      <td>1.0</td>\n",
       "      <td>0.0</td>\n",
       "      <td>0.0</td>\n",
       "      <td>1.0</td>\n",
       "      <td>0.0</td>\n",
       "      <td>0.0</td>\n",
       "      <td>0.0</td>\n",
       "      <td>0.0</td>\n",
       "      <td>0.0</td>\n",
       "      <td>0.0</td>\n",
       "      <td>ISIC_0068279</td>\n",
       "      <td>0.45</td>\n",
       "      <td>0</td>\n",
       "    </tr>\n",
       "    <tr>\n",
       "      <th>4</th>\n",
       "      <td>1.0</td>\n",
       "      <td>0.0</td>\n",
       "      <td>0.0</td>\n",
       "      <td>0.0</td>\n",
       "      <td>0.0</td>\n",
       "      <td>0.0</td>\n",
       "      <td>0.0</td>\n",
       "      <td>0.0</td>\n",
       "      <td>1.0</td>\n",
       "      <td>0.0</td>\n",
       "      <td>ISIC_0074268</td>\n",
       "      <td>0.55</td>\n",
       "      <td>0</td>\n",
       "    </tr>\n",
       "    <tr>\n",
       "      <th>...</th>\n",
       "      <td>...</td>\n",
       "      <td>...</td>\n",
       "      <td>...</td>\n",
       "      <td>...</td>\n",
       "      <td>...</td>\n",
       "      <td>...</td>\n",
       "      <td>...</td>\n",
       "      <td>...</td>\n",
       "      <td>...</td>\n",
       "      <td>...</td>\n",
       "      <td>...</td>\n",
       "      <td>...</td>\n",
       "      <td>...</td>\n",
       "    </tr>\n",
       "    <tr>\n",
       "      <th>6643</th>\n",
       "      <td>0.0</td>\n",
       "      <td>1.0</td>\n",
       "      <td>0.0</td>\n",
       "      <td>0.0</td>\n",
       "      <td>0.0</td>\n",
       "      <td>0.0</td>\n",
       "      <td>0.0</td>\n",
       "      <td>1.0</td>\n",
       "      <td>0.0</td>\n",
       "      <td>0.0</td>\n",
       "      <td>ISIC_9999134</td>\n",
       "      <td>0.50</td>\n",
       "      <td>0</td>\n",
       "    </tr>\n",
       "    <tr>\n",
       "      <th>6644</th>\n",
       "      <td>0.0</td>\n",
       "      <td>1.0</td>\n",
       "      <td>0.0</td>\n",
       "      <td>0.0</td>\n",
       "      <td>0.0</td>\n",
       "      <td>0.0</td>\n",
       "      <td>0.0</td>\n",
       "      <td>1.0</td>\n",
       "      <td>0.0</td>\n",
       "      <td>0.0</td>\n",
       "      <td>ISIC_9999320</td>\n",
       "      <td>0.65</td>\n",
       "      <td>0</td>\n",
       "    </tr>\n",
       "    <tr>\n",
       "      <th>6645</th>\n",
       "      <td>0.0</td>\n",
       "      <td>1.0</td>\n",
       "      <td>0.0</td>\n",
       "      <td>0.0</td>\n",
       "      <td>1.0</td>\n",
       "      <td>0.0</td>\n",
       "      <td>0.0</td>\n",
       "      <td>0.0</td>\n",
       "      <td>0.0</td>\n",
       "      <td>0.0</td>\n",
       "      <td>ISIC_9999515</td>\n",
       "      <td>0.20</td>\n",
       "      <td>0</td>\n",
       "    </tr>\n",
       "    <tr>\n",
       "      <th>6646</th>\n",
       "      <td>0.0</td>\n",
       "      <td>1.0</td>\n",
       "      <td>0.0</td>\n",
       "      <td>0.0</td>\n",
       "      <td>1.0</td>\n",
       "      <td>0.0</td>\n",
       "      <td>0.0</td>\n",
       "      <td>0.0</td>\n",
       "      <td>0.0</td>\n",
       "      <td>0.0</td>\n",
       "      <td>ISIC_9999666</td>\n",
       "      <td>0.50</td>\n",
       "      <td>0</td>\n",
       "    </tr>\n",
       "    <tr>\n",
       "      <th>6647</th>\n",
       "      <td>0.0</td>\n",
       "      <td>1.0</td>\n",
       "      <td>0.0</td>\n",
       "      <td>0.0</td>\n",
       "      <td>0.0</td>\n",
       "      <td>0.0</td>\n",
       "      <td>0.0</td>\n",
       "      <td>1.0</td>\n",
       "      <td>0.0</td>\n",
       "      <td>0.0</td>\n",
       "      <td>ISIC_9999806</td>\n",
       "      <td>0.45</td>\n",
       "      <td>0</td>\n",
       "    </tr>\n",
       "  </tbody>\n",
       "</table>\n",
       "<p>33596 rows × 13 columns</p>\n",
       "</div>"
      ],
      "text/plain": [
       "      female  male  as1  as2  as3  as4  as5  as6  as7  as8      img_name  \\\n",
       "0        0.0   1.0  0.0  1.0  0.0  0.0  0.0  0.0  0.0  0.0  ISIC_2637011   \n",
       "1        1.0   0.0  0.0  0.0  0.0  0.0  0.0  0.0  1.0  0.0  ISIC_0015719   \n",
       "2        1.0   0.0  0.0  0.0  1.0  0.0  0.0  0.0  0.0  0.0  ISIC_0052212   \n",
       "3        1.0   0.0  0.0  1.0  0.0  0.0  0.0  0.0  0.0  0.0  ISIC_0068279   \n",
       "4        1.0   0.0  0.0  0.0  0.0  0.0  0.0  0.0  1.0  0.0  ISIC_0074268   \n",
       "...      ...   ...  ...  ...  ...  ...  ...  ...  ...  ...           ...   \n",
       "6643     0.0   1.0  0.0  0.0  0.0  0.0  0.0  1.0  0.0  0.0  ISIC_9999134   \n",
       "6644     0.0   1.0  0.0  0.0  0.0  0.0  0.0  1.0  0.0  0.0  ISIC_9999320   \n",
       "6645     0.0   1.0  0.0  0.0  1.0  0.0  0.0  0.0  0.0  0.0  ISIC_9999515   \n",
       "6646     0.0   1.0  0.0  0.0  1.0  0.0  0.0  0.0  0.0  0.0  ISIC_9999666   \n",
       "6647     0.0   1.0  0.0  0.0  0.0  0.0  0.0  1.0  0.0  0.0  ISIC_9999806   \n",
       "\n",
       "       age  target  \n",
       "0     0.45       0  \n",
       "1     0.45       0  \n",
       "2     0.50       0  \n",
       "3     0.45       0  \n",
       "4     0.55       0  \n",
       "...    ...     ...  \n",
       "6643  0.50       0  \n",
       "6644  0.65       0  \n",
       "6645  0.20       0  \n",
       "6646  0.50       0  \n",
       "6647  0.45       0  \n",
       "\n",
       "[33596 rows x 13 columns]"
      ]
     },
     "execution_count": 1,
     "metadata": {},
     "output_type": "execute_result"
    }
   ],
   "source": [
    "import matplotlib.pyplot as plt\n",
    "import numpy as np\n",
    "import os\n",
    "import pandas as pd\n",
    "\n",
    "\n",
    "\n",
    "os.environ['CUDA_VISIBLE_DEVICES'] = '-1'\n",
    "metadata_train_df = pd.read_csv(r'C:\\Users\\nilss\\Documents\\GitHub\\Melanoma\\ernst\\merged_model\\real_train.csv')\n",
    "metadata_val_df = pd.read_csv(r'C:\\Users\\nilss\\Documents\\GitHub\\Melanoma\\ernst\\merged_model\\real_val.csv')\n",
    "\n",
    "\n",
    "metadata_df = pd.concat([metadata_train_df,metadata_val_df])\n",
    "\n",
    "metadata_df.fillna(0.49) #Teils wurd kein Alter angegeben, dies Lücken werden mit dem normalisierten Durchschnittsalter gefüllt\n"
   ]
  },
  {
   "cell_type": "markdown",
   "metadata": {},
   "source": [
    "Bilder und Metadaten in einem NPZ File zusammenführen und speichern"
   ]
  },
  {
   "cell_type": "markdown",
   "metadata": {},
   "source": [
    "Muss natürlich nicht jedes mal aufs neue gemacht werden.\n"
   ]
  },
  {
   "cell_type": "code",
   "execution_count": null,
   "metadata": {},
   "outputs": [],
   "source": [
    "import math\n",
    "import cv2\n",
    "img_dir_path = r\"C:\\Users\\nilss\\Sets\\images_v4_trainaug/\" #Hier sind sämtliche Bilder in einem Ordner\n",
    "\n",
    "\n",
    "\n",
    "for i, row in metadata_df.iterrows():\n",
    "    img_path = img_dir_path+row['img_name']+'.jpg'\n",
    "\n",
    "\n",
    "    npz_path = 'npzs/'+row['img_name']+'.npz'\n",
    "   \n",
    "    \n",
    "    pic_bgr_arr = cv2.imread(img_dir_path+row['img_name']+'.jpg')\n",
    "    pic_rgb_arr = cv2.cvtColor(pic_bgr_arr, cv2.COLOR_BGR2RGB)\n",
    "    \n",
    "    male,female,age = row['male'], row['female'],row['age'] #Zuteilen der Features von der CSV zum NPZ File.\n",
    "    as1,as2,as3,as4,as5,as6,as7,as8= row['as1'], row['as2'], row['as3'], row['as4'], row['as5'], row['as6'], row['as7'], row['as8']\n",
    "\n",
    "    if math.isnan(age):\n",
    "        age=0.49 #Teils wurd kein Alter angegeben, dies Lücken werden mit dem normalisierten Durchschnittsalter gefüllt\n",
    "        print(row['img_name']) #Zur Überwachung\n",
    "    metadata = np.array([male,female,age,as1,as2,as3,as4,as5,as6,as7,as8])\n",
    "\n",
    "    target = row['target']\n",
    "    #np.savez_compressed(npz_path, img=pic_rgb_arr, metadata=metadata, target=target) #Zur sicherheit auskommentiert!\n",
    "    "
   ]
  },
  {
   "cell_type": "code",
   "execution_count": 2,
   "metadata": {},
   "outputs": [
    {
     "data": {
      "text/html": [
       "<div>\n",
       "<style scoped>\n",
       "    .dataframe tbody tr th:only-of-type {\n",
       "        vertical-align: middle;\n",
       "    }\n",
       "\n",
       "    .dataframe tbody tr th {\n",
       "        vertical-align: top;\n",
       "    }\n",
       "\n",
       "    .dataframe thead th {\n",
       "        text-align: right;\n",
       "    }\n",
       "</style>\n",
       "<table border=\"1\" class=\"dataframe\">\n",
       "  <thead>\n",
       "    <tr style=\"text-align: right;\">\n",
       "      <th></th>\n",
       "      <th>img_name</th>\n",
       "      <th>target</th>\n",
       "    </tr>\n",
       "  </thead>\n",
       "  <tbody>\n",
       "    <tr>\n",
       "      <th>0</th>\n",
       "      <td>ISIC_2637011</td>\n",
       "      <td>0</td>\n",
       "    </tr>\n",
       "    <tr>\n",
       "      <th>1</th>\n",
       "      <td>ISIC_0015719</td>\n",
       "      <td>0</td>\n",
       "    </tr>\n",
       "    <tr>\n",
       "      <th>2</th>\n",
       "      <td>ISIC_0052212</td>\n",
       "      <td>0</td>\n",
       "    </tr>\n",
       "    <tr>\n",
       "      <th>3</th>\n",
       "      <td>ISIC_0068279</td>\n",
       "      <td>0</td>\n",
       "    </tr>\n",
       "    <tr>\n",
       "      <th>4</th>\n",
       "      <td>ISIC_0074268</td>\n",
       "      <td>0</td>\n",
       "    </tr>\n",
       "  </tbody>\n",
       "</table>\n",
       "</div>"
      ],
      "text/plain": [
       "       img_name  target\n",
       "0  ISIC_2637011       0\n",
       "1  ISIC_0015719       0\n",
       "2  ISIC_0052212       0\n",
       "3  ISIC_0068279       0\n",
       "4  ISIC_0074268       0"
      ]
     },
     "execution_count": 2,
     "metadata": {},
     "output_type": "execute_result"
    }
   ],
   "source": [
    "metadata_df.drop(\n",
    "   ['as1','as2','as3','as4','as5','as6','as7','as8','as8','female','male','age'], #Diese Features brauchen wir nicht mehr.\n",
    "axis=1,\n",
    "inplace=True\n",
    "    )\n",
    "metadata_df.head()  #Kontrolle"
   ]
  },
  {
   "cell_type": "code",
   "execution_count": 8,
   "metadata": {},
   "outputs": [
    {
     "data": {
      "text/plain": [
       "(33596, 2)"
      ]
     },
     "execution_count": 8,
     "metadata": {},
     "output_type": "execute_result"
    }
   ],
   "source": [
    "metadata_df.shape"
   ]
  },
  {
   "cell_type": "code",
   "execution_count": 3,
   "metadata": {},
   "outputs": [],
   "source": [
    "\n",
    "\n",
    "train_df,val_df = metadata_df[:26948],metadata_df[26948:] #Teilen in Val -und Trainset.\n"
   ]
  },
  {
   "cell_type": "code",
   "execution_count": 4,
   "metadata": {},
   "outputs": [
    {
     "data": {
      "text/plain": [
       "((26948, 2), (6648, 2))"
      ]
     },
     "execution_count": 4,
     "metadata": {},
     "output_type": "execute_result"
    }
   ],
   "source": [
    "train_df.shape,val_df.shape"
   ]
  },
  {
   "cell_type": "code",
   "execution_count": null,
   "metadata": {},
   "outputs": [],
   "source": [
    "#Die Verteilung an Positiven Einträgen konrollieren.\n",
    "\n",
    "train_malignant=0\n",
    "train_benign=0\n",
    "for i,row in train_df.iterrows():\n",
    "    if row['target']==1:\n",
    "        train_malignant+=1\n",
    "    elif  row['target']==0:\n",
    "        train_benign+=1\n",
    "    else:\n",
    "        print(row['target'])   \n",
    "\n",
    "val_malignant=0\n",
    "val_benign=0\n",
    "\n",
    "for i,row in val_df.iterrows():\n",
    "    if row['target']==1:\n",
    "        val_malignant+=1\n",
    "    else:\n",
    "        val_benign+=1\n",
    "\n",
    "'Train:',train_malignant,'malignants',train_benign,'benigns','Val:',val_malignant,'malignants',val_benign,'benigns'"
   ]
  },
  {
   "cell_type": "code",
   "execution_count": 37,
   "metadata": {},
   "outputs": [],
   "source": [
    "#Funktion zum Einlesen der NPZ Dateien\n",
    "def get_X_y(df,path,):\n",
    "    \"\"\"Fügt Metadaten und Bilddaten in einer NPZ-Datein zusammen. Gibt X_img, X_metadata und y aus.\n",
    "    Params:\\n \\n\n",
    "    - df, das DF dessen Eitträge vorgeben, welche NPZs Eingelesen werden sollen.\\n \\n\n",
    "    - path, von wo die NPZs geladen werden sollen.Slash am Ende nicht vergessen!\n",
    "    \"\"\"\n",
    "    assert path[-1]=='/'\n",
    "\n",
    "    if type(df)==list:\n",
    "        img_names = df\n",
    "    else:\n",
    "        print(type(df))\n",
    "        img_names = df['img_name']    \n",
    "    X_img,X_metadata = [],[]\n",
    "    y=[]\n",
    "\n",
    "    \n",
    "    for name in img_names:\n",
    "       \n",
    "        npz= np.load(path+name.split('.')[0]+'.npz') \n",
    "\n",
    "        img = npz['img']\n",
    "        X_img.append(img)\n",
    "\n",
    "        metadata = npz['metadata']\n",
    "        X_metadata.append(metadata)\n",
    "\n",
    "        y.append(npz['target'])\n",
    "        \n",
    "\n",
    "    X_img,X_metadata = np.array(X_img),np.array(X_metadata)\n",
    "    y=np.array(y)\n",
    "\n",
    "    return (X_img,X_metadata),  y\n",
    "\n"
   ]
  },
  {
   "cell_type": "code",
   "execution_count": null,
   "metadata": {},
   "outputs": [],
   "source": [
    "#Erstellen der Trainingssets und Kontrolle der Shapes\n",
    "(X_train_img,X_train_metadata), y_train = get_X_y(train_df)\n",
    "\n",
    "\n",
    "X_train_img.shape,X_train_metadata.shape,y_train.shape\n"
   ]
  },
  {
   "cell_type": "code",
   "execution_count": 7,
   "metadata": {},
   "outputs": [
    {
     "data": {
      "text/plain": [
       "((6648, 224, 224, 3), (6648, 11), (6648,))"
      ]
     },
     "execution_count": 7,
     "metadata": {},
     "output_type": "execute_result"
    }
   ],
   "source": [
    "#Erstellen der Trainingssets und Kontrolle der Shapes\n",
    "(X_val_img,X_val_metadata), y_val = get_X_y(val_df)\n",
    "\n",
    "\n",
    "X_val_img.shape,X_val_metadata.shape,y_val.shape"
   ]
  },
  {
   "cell_type": "code",
   "execution_count": 6,
   "metadata": {},
   "outputs": [],
   "source": [
    "import tensorflow as tf\n",
    "from tensorflow.keras import layers"
   ]
  },
  {
   "cell_type": "markdown",
   "metadata": {},
   "source": [
    "CNN für Bilder\n"
   ]
  },
  {
   "cell_type": "code",
   "execution_count": 7,
   "metadata": {},
   "outputs": [],
   "source": [
    "\n",
    "input_shape = (224, 224, 3)\n",
    "base_model = tf.keras.applications.EfficientNetB3(include_top=False) #B3 wird hierverwendet.\n",
    "base_model.trainable = False\n",
    "\n",
    "inputs =layers.Input(shape=input_shape, name=\"input_layer\")\n",
    "\n",
    "x= base_model(inputs)\n",
    "\n",
    "x= layers.GlobalAveragePooling2D()(x)\n",
    "\n",
    "outputs = tf.keras.layers.Dense(15, #15 Neuronen als Output des Imagestreams.\n",
    "activation=\"LeakyReLU\", #LeakyReLU um \"DyingReLU\" zu umgehen.\n",
    " name=\"output_layer\",\n",
    " \n",
    ")(x)\n",
    "\n",
    "cnn = tf.keras.Model(inputs, outputs) #Imagestream-Modell \n"
   ]
  },
  {
   "cell_type": "code",
   "execution_count": 3,
   "metadata": {},
   "outputs": [
    {
     "data": {
      "text/plain": [
       "[<tf.Variable 'output_layer/kernel:0' shape=(1536, 15) dtype=float32, numpy=\n",
       " array([[-0.00722729,  0.006885  , -0.00850381, ...,  0.0603005 ,\n",
       "          0.0077204 ,  0.050406  ],\n",
       "        [ 0.03073881,  0.00521204, -0.00171753, ...,  0.06099519,\n",
       "         -0.00855669,  0.05542484],\n",
       "        [-0.05522988,  0.05413732,  0.04397985, ...,  0.01915576,\n",
       "         -0.01350201,  0.02967417],\n",
       "        ...,\n",
       "        [ 0.02535794, -0.01607182,  0.04667811, ..., -0.01069925,\n",
       "          0.03947179,  0.0588019 ],\n",
       "        [ 0.03371282, -0.05033345, -0.02123518, ..., -0.04651993,\n",
       "         -0.0011714 ,  0.05995372],\n",
       "        [-0.01633942,  0.05476103, -0.01844093, ..., -0.01948228,\n",
       "         -0.04969653, -0.00126596]], dtype=float32)>,\n",
       " <tf.Variable 'output_layer/bias:0' shape=(15,) dtype=float32, numpy=\n",
       " array([0., 0., 0., 0., 0., 0., 0., 0., 0., 0., 0., 0., 0., 0., 0.],\n",
       "       dtype=float32)>]"
      ]
     },
     "execution_count": 3,
     "metadata": {},
     "output_type": "execute_result"
    }
   ],
   "source": [
    "cnn.layers[-1].weights #Zur kontrolle, dass Gewichte frisch initialisiert wurden."
   ]
  },
  {
   "cell_type": "markdown",
   "metadata": {},
   "source": [
    "FNN für Metadata"
   ]
  },
  {
   "cell_type": "code",
   "execution_count": 8,
   "metadata": {},
   "outputs": [],
   "source": [
    "def stat_scaler(tensor):\n",
    "   return tensor\n",
    "input_stats = layers.Input(shape=(11,))\n",
    "\n",
    "y = layers.Dense(72, activation=\"LeakyReLU\",\n",
    "\n",
    "#kernel_regularizer=tf.keras.regularizers.L1L2(l1=0.0005, l2=0.0005)\n",
    ")(input_stats)\n",
    "y = layers.Dense(5, \n",
    "activation=\"LeakyReLU\",\n",
    "\n",
    "#kernel_regularizer=tf.keras.regularizers.L1L2(l1=0.0005, l2=0.0005)\n",
    ")(y)\n",
    "fnn = tf.keras.Model(inputs=input_stats, outputs=y)"
   ]
  },
  {
   "cell_type": "markdown",
   "metadata": {},
   "source": [
    "Zusammenführen der beiden (unter-) Modellen\n"
   ]
  },
  {
   "cell_type": "code",
   "execution_count": 9,
   "metadata": {},
   "outputs": [],
   "source": [
    "merging_layer = layers.concatenate([cnn.output,fnn.output])#hierwerden die modelle zuseammengeführt\n",
    "\n",
    "z = layers.Dense(10,\n",
    "activation='LeakyReLU', #\"tanh\",#'relu',\n",
    "\n",
    ")(merging_layer)\n",
    "\n",
    "z = layers.Dropout(rate=0.5,\n",
    "\n",
    "\n",
    ")(z)\n",
    "\n",
    "z = layers.Dense(8,\n",
    "activation='LeakyReLU', #\"tanh\",#'relu',\n",
    "\n",
    ")(z)\n",
    "\n",
    "z = layers.Dense(1,activation='sigmoid',\n",
    "#kernel_regularizer=tf.keras.regularizers.L1L2(l1=0.01, l2=0.01)\n",
    ")(z)\n",
    "\n",
    "\n",
    "merged_model = tf.keras.Model(inputs=[cnn.input,fnn.input],outputs=z)"
   ]
  },
  {
   "cell_type": "code",
   "execution_count": null,
   "metadata": {},
   "outputs": [],
   "source": [
    "merged_model.summary()"
   ]
  },
  {
   "cell_type": "code",
   "execution_count": null,
   "metadata": {},
   "outputs": [],
   "source": [
    "from keras.utils import plot_model\n",
    "\n",
    "\n",
    "plot_model(merged_model, \"my_first_model.png\")"
   ]
  },
  {
   "cell_type": "code",
   "execution_count": 21,
   "metadata": {},
   "outputs": [],
   "source": [
    "from keras import backend as K\n",
    "\n",
    "\n",
    "merged_model.compile(\n",
    "    loss=\"binary_crossentropy\",\n",
    "    metrics=#[ tf.keras.metrics.Precision(thresholds=[0.253]),tf.keras.metrics.Recall(thresholds=[0.253])],\n",
    "\t[tf.keras.metrics.Recall(),tf.keras.metrics.Precision()],\n",
    "    optimizer=tf.keras.optimizers.Adam(learning_rate=0.001) #lr\n",
    ")"
   ]
  },
  {
   "cell_type": "code",
   "execution_count": 22,
   "metadata": {},
   "outputs": [
    {
     "name": "stdout",
     "output_type": "stream",
     "text": [
      "WARNING:tensorflow:Model failed to serialize as JSON. Ignoring... Unable to serialize [2.0896919 2.1128857 2.1081853] to JSON. Unrecognized type <class 'tensorflow.python.framework.ops.EagerTensor'>.\n",
      "Epoch 1/15\n",
      "843/843 [==============================] - 2502s 3s/step - loss: 0.6400 - recall: 0.3362 - precision: 0.1300 - val_loss: 0.2432 - val_recall: 0.3772 - val_precision: 0.0822\n",
      "Epoch 2/15\n",
      "843/843 [==============================] - 2458s 3s/step - loss: 0.5535 - recall: 0.4840 - precision: 0.1599 - val_loss: 0.1760 - val_recall: 0.2982 - val_precision: 0.1141\n",
      "Epoch 3/15\n",
      "843/843 [==============================] - 2463s 3s/step - loss: 0.5350 - recall: 0.5000 - precision: 0.1717 - val_loss: 0.2478 - val_recall: 0.4386 - val_precision: 0.0916\n",
      "Epoch 4/15\n",
      "843/843 [==============================] - 2459s 3s/step - loss: 0.5037 - recall: 0.5340 - precision: 0.1862 - val_loss: 0.2538 - val_recall: 0.4649 - val_precision: 0.0923\n",
      "Epoch 5/15\n",
      "843/843 [==============================] - 2470s 3s/step - loss: 0.4925 - recall: 0.5660 - precision: 0.1929 - val_loss: 0.2378 - val_recall: 0.5175 - val_precision: 0.0877\n",
      "Epoch 6/15\n",
      "843/843 [==============================] - 2460s 3s/step - loss: 0.4706 - recall: 0.6021 - precision: 0.2039 - val_loss: 0.3158 - val_recall: 0.7193 - val_precision: 0.0697\n",
      "Epoch 7/15\n",
      "843/843 [==============================] - 2462s 3s/step - loss: 0.4642 - recall: 0.6330 - precision: 0.2100 - val_loss: 0.1713 - val_recall: 0.3596 - val_precision: 0.1010\n",
      "Epoch 8/15\n",
      "843/843 [==============================] - 2458s 3s/step - loss: 0.4519 - recall: 0.6223 - precision: 0.2157 - val_loss: 0.1625 - val_recall: 0.3772 - val_precision: 0.1211\n",
      "Epoch 9/15\n",
      "843/843 [==============================] - 2467s 3s/step - loss: 0.4462 - recall: 0.6521 - precision: 0.2288 - val_loss: 0.2337 - val_recall: 0.5439 - val_precision: 0.1032\n",
      "Epoch 10/15\n",
      "843/843 [==============================] - 2481s 3s/step - loss: 0.4132 - recall: 0.6574 - precision: 0.2355 - val_loss: 0.2355 - val_recall: 0.5702 - val_precision: 0.0866\n",
      "Epoch 11/15\n",
      "843/843 [==============================] - 2465s 3s/step - loss: 0.4104 - recall: 0.7085 - precision: 0.2261 - val_loss: 0.2354 - val_recall: 0.6140 - val_precision: 0.0908\n",
      "Epoch 12/15\n",
      "843/843 [==============================] - 2467s 3s/step - loss: 0.4048 - recall: 0.7032 - precision: 0.2244 - val_loss: 0.2229 - val_recall: 0.6228 - val_precision: 0.0924\n",
      "Epoch 13/15\n",
      "843/843 [==============================] - 2471s 3s/step - loss: 0.4024 - recall: 0.7074 - precision: 0.2276 - val_loss: 0.2429 - val_recall: 0.6316 - val_precision: 0.0794\n",
      "Epoch 14/15\n",
      "843/843 [==============================] - 2445s 3s/step - loss: 0.3965 - recall: 0.7277 - precision: 0.2356 - val_loss: 0.1197 - val_recall: 0.2544 - val_precision: 0.1208\n",
      "Epoch 15/15\n",
      "843/843 [==============================] - 2456s 3s/step - loss: 0.3852 - recall: 0.7394 - precision: 0.2468 - val_loss: 0.2176 - val_recall: 0.5965 - val_precision: 0.0912\n"
     ]
    }
   ],
   "source": [
    "from functions import upload_tensorboard\n",
    "\n",
    "from functions import upload_tensorboard\n",
    "\n",
    "history = merged_model.fit(\n",
    "    x=[X_train_img,X_train_metadata],\n",
    "    y=y_train,\n",
    "    batch_size=32,\n",
    "    validation_data=(\n",
    "        [X_val_img,X_val_metadata],y_val\n",
    "        ),\n",
    "    class_weight={0:1,1:10},    \n",
    "    epochs=15,\n",
    "    callbacks=[upload_tensorboard('','')])    \n"
   ]
  },
  {
   "cell_type": "markdown",
   "metadata": {},
   "source": [
    "Dieser Code oben ist Abgeändert von https://colab.research.google.com/drive/1jkgO5Rea-qbU-VVbbyoz_7jIPIoQXYjh?usp=sharing\n"
   ]
  },
  {
   "cell_type": "code",
   "execution_count": 10,
   "metadata": {},
   "outputs": [
    {
     "data": {
      "text/plain": [
       "<tensorflow.python.checkpoint.checkpoint.CheckpointLoadStatus at 0x1248673e1d0>"
      ]
     },
     "execution_count": 10,
     "metadata": {},
     "output_type": "execute_result"
    }
   ],
   "source": [
    "merged_model.load_weights(r\"trained_models\\b3_upweighted10_weights\") #hhier werden die trainierten Gewichte geladen"
   ]
  },
  {
   "cell_type": "code",
   "execution_count": 38,
   "metadata": {},
   "outputs": [],
   "source": [
    "import os\n",
    "npzs_path_to_predict =r\"C:\\Users\\nilss\\Desktop\\benign_npzs/\" #Der Pfad, welcher die dieDateien enthält die vorhergesagt werden sollen.\n",
    "entries= os.listdir(npzs_path_to_predict)\n",
    "\n",
    "\n",
    "(X_pred_img,X_pred_metadata), y_pred = get_X_y(entries,path=npzs_path_to_predict)    \n",
    "\n",
    "\n",
    "\n"
   ]
  },
  {
   "cell_type": "code",
   "execution_count": 12,
   "metadata": {},
   "outputs": [
    {
     "name": "stdout",
     "output_type": "stream",
     "text": [
      "100/100 [==============================] - 7s 53ms/step\n"
     ]
    },
    {
     "data": {
      "text/plain": [
       "array([[2.8078834e-04],\n",
       "       [1.8833237e-02],\n",
       "       [1.2082694e-03],\n",
       "       [1.6263379e-02],\n",
       "       [4.1871507e-02],\n",
       "       [8.8598847e-04],\n",
       "       [1.7124253e-04],\n",
       "       [5.0996870e-02],\n",
       "       [3.4569690e-01],\n",
       "       [9.8941580e-04],\n",
       "       [6.2293666e-03],\n",
       "       [2.9985708e-01],\n",
       "       [2.5326600e-02],\n",
       "       [5.8846754e-01],\n",
       "       [3.9765739e-01],\n",
       "       [4.0967536e-01],\n",
       "       [1.9991906e-02],\n",
       "       [3.5709262e-01],\n",
       "       [6.2467833e-04],\n",
       "       [7.8709645e-04],\n",
       "       [2.4409866e-01],\n",
       "       [8.0781607e-03],\n",
       "       [4.0438924e-02],\n",
       "       [2.9242354e-05],\n",
       "       [1.5024922e-03],\n",
       "       [1.0325306e-03],\n",
       "       [2.9855827e-03],\n",
       "       [3.6241983e-03],\n",
       "       [5.2650428e-01],\n",
       "       [6.4198560e-01],\n",
       "       [1.6400197e-01],\n",
       "       [5.0332387e-06],\n",
       "       [1.8438365e-01],\n",
       "       [4.5054424e-01],\n",
       "       [3.3325371e-01],\n",
       "       [2.2622234e-01],\n",
       "       [2.3163746e-03],\n",
       "       [9.2930272e-02],\n",
       "       [5.7758544e-02],\n",
       "       [1.6780731e-03],\n",
       "       [2.5774583e-01],\n",
       "       [3.5159915e-06],\n",
       "       [9.8199358e-05],\n",
       "       [1.3180248e-01],\n",
       "       [1.3106670e-02],\n",
       "       [2.3222631e-03],\n",
       "       [1.6255353e-01],\n",
       "       [1.9036562e-03],\n",
       "       [5.6990955e-02],\n",
       "       [8.0620982e-02],\n",
       "       [6.4754170e-01],\n",
       "       [2.3879072e-01],\n",
       "       [8.0878810e-05],\n",
       "       [2.5209010e-01],\n",
       "       [2.3261970e-02],\n",
       "       [9.7450569e-02],\n",
       "       [6.1284460e-04],\n",
       "       [3.8659550e-02],\n",
       "       [9.6663442e-03],\n",
       "       [1.2237104e-04],\n",
       "       [4.6457905e-01],\n",
       "       [1.6027261e-02],\n",
       "       [1.7832639e-02],\n",
       "       [3.1382892e-02],\n",
       "       [1.5906518e-02],\n",
       "       [7.5503544e-07],\n",
       "       [3.8327518e-04],\n",
       "       [2.1565397e-01],\n",
       "       [1.8339526e-04],\n",
       "       [1.1285610e-03],\n",
       "       [5.3926408e-03],\n",
       "       [7.7700824e-02],\n",
       "       [6.2763309e-01],\n",
       "       [4.6849810e-03],\n",
       "       [5.7529151e-01],\n",
       "       [6.4192730e-01],\n",
       "       [2.5656179e-01],\n",
       "       [3.1404552e-04],\n",
       "       [2.2376521e-02],\n",
       "       [4.2708233e-01],\n",
       "       [1.1746549e-01],\n",
       "       [7.1324524e-03],\n",
       "       [1.1221891e-04],\n",
       "       [1.4479449e-03],\n",
       "       [2.1009026e-02],\n",
       "       [3.0896425e-01],\n",
       "       [4.5819119e-02],\n",
       "       [1.9139957e-01],\n",
       "       [1.2680880e-02],\n",
       "       [9.8315356e-03],\n",
       "       [6.3156930e-04],\n",
       "       [2.5941330e-01],\n",
       "       [2.5309747e-04],\n",
       "       [6.6457790e-01],\n",
       "       [4.0565512e-01],\n",
       "       [3.2606003e-01],\n",
       "       [8.2962756e-04],\n",
       "       [5.7191384e-01],\n",
       "       [1.1421852e-04],\n",
       "       [1.9967669e-01]], dtype=float32)"
      ]
     },
     "execution_count": 12,
     "metadata": {},
     "output_type": "execute_result"
    }
   ],
   "source": [
    "merged_model.predict(  x=[X_pred_img,X_pred_metadata],\n",
    "    batch_size=1 #Die Vorhersage.\n",
    "    )"
   ]
  }
 ],
 "metadata": {
  "kernelspec": {
   "display_name": "Python 3.10.5 64-bit",
   "language": "python",
   "name": "python3"
  },
  "language_info": {
   "codemirror_mode": {
    "name": "ipython",
    "version": 3
   },
   "file_extension": ".py",
   "mimetype": "text/x-python",
   "name": "python",
   "nbconvert_exporter": "python",
   "pygments_lexer": "ipython3",
   "version": "3.10.5"
  },
  "orig_nbformat": 4,
  "vscode": {
   "interpreter": {
    "hash": "283ef8891ff4bf443aa128a25cf2888f5af3851caf26729798254c68c875a2e6"
   }
  }
 },
 "nbformat": 4,
 "nbformat_minor": 2
}
